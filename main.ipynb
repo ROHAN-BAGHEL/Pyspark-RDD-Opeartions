{
  "cells": [
    {
      "cell_type": "markdown",
      "metadata": {
        "id": "zpHzq-0IVxKf"
      },
      "source": [
        "#Assignment 6\n",
        "\n",
        "- NAME - ROHAN BAGHEL\n",
        "- STUDENT ID - 202116011"
      ]
    },
    {
      "cell_type": "code",
      "execution_count": null,
      "metadata": {
        "id": "dkOZgwJPVw9J"
      },
      "outputs": [],
      "source": []
    },
    {
      "cell_type": "code",
      "execution_count": null,
      "metadata": {
        "colab": {
          "base_uri": "https://localhost:8080/"
        },
        "id": "N689v-NSf06S",
        "outputId": "5d53c44d-e606-4113-ab88-bd57b489e330"
      },
      "outputs": [
        {
          "name": "stdout",
          "output_type": "stream",
          "text": [
            "Requirement already satisfied: pyspark in /usr/local/lib/python3.7/dist-packages (3.2.1)\n",
            "Requirement already satisfied: py4j==0.10.9.3 in /usr/local/lib/python3.7/dist-packages (from pyspark) (0.10.9.3)\n"
          ]
        }
      ],
      "source": [
        "!pip install pyspark\n",
        "!apt-get install openjdk-8-jdk-headless -qq > /dev/null\n",
        "!wget -q https://dlcdn.apache.org/spark/spark-3.2.1/spark-3.2.1-bin-hadoop3.2.tgz\n",
        "!tar xf spark-3.2.1-bin-hadoop3.2.tgz\n"
      ]
    },
    {
      "cell_type": "code",
      "execution_count": null,
      "metadata": {
        "id": "Pm8M4Sg9gB8o"
      },
      "outputs": [],
      "source": [
        "import os\n",
        "os.environ[\"JAVA_HOME\"] = \"/usr/lib/jvm/java-8-openjdk-amd64\"\n",
        "os.environ[\"SPARK_HOME\"] = \"/content/spark-3.2.1-bin-hadoop3.2\""
      ]
    },
    {
      "cell_type": "code",
      "execution_count": null,
      "metadata": {
        "id": "jVa6lkOxgD3m"
      },
      "outputs": [],
      "source": [
        "!pip install -q findspark\n",
        "import findspark\n",
        "findspark.init()"
      ]
    },
    {
      "cell_type": "code",
      "execution_count": null,
      "metadata": {
        "id": "d1XYAT1EgF2j"
      },
      "outputs": [],
      "source": [
        "from pyspark.sql import SparkSession\n",
        "spark = SparkSession.builder.master(\"local\").appName(\"Colab\").config('spark.ui.port', '4050').getOrCreate()"
      ]
    },
    {
      "cell_type": "code",
      "execution_count": null,
      "metadata": {
        "id": "oBdgD2tDjkKf"
      },
      "outputs": [],
      "source": [
        "sc=spark.sparkContext"
      ]
    },
    {
      "cell_type": "markdown",
      "metadata": {
        "id": "Cahr-mJtyTU3"
      },
      "source": [
        "#Question 1"
      ]
    },
    {
      "cell_type": "markdown",
      "metadata": {
        "id": "OgZM8KROyW3U"
      },
      "source": [
        "a) Basic RDD Operation"
      ]
    },
    {
      "cell_type": "code",
      "execution_count": null,
      "metadata": {
        "id": "D5nLIWLXgIA1"
      },
      "outputs": [],
      "source": [
        "lines = sc.parallelize([\"Hello World\",\"How are you Python\",\"Know Your Enemy\",\"Enjoy\"])"
      ]
    },
    {
      "cell_type": "code",
      "execution_count": null,
      "metadata": {
        "colab": {
          "base_uri": "https://localhost:8080/"
        },
        "id": "iKhzLKAzlZ0B",
        "outputId": "ca503f3a-ad5c-4747-f6ac-8a51ec1becdc"
      },
      "outputs": [
        {
          "data": {
            "text/plain": [
              "['Hello World', 'How are you Python', 'Know Your Enemy', 'Enjoy']"
            ]
          },
          "execution_count": 109,
          "metadata": {},
          "output_type": "execute_result"
        }
      ],
      "source": [
        "lines.collect()"
      ]
    },
    {
      "cell_type": "code",
      "execution_count": null,
      "metadata": {
        "id": "nqfOOKpFjxxz"
      },
      "outputs": [],
      "source": [
        "pythonLines = lines.filter(lambda line: \"Python\" in line)"
      ]
    },
    {
      "cell_type": "code",
      "execution_count": null,
      "metadata": {
        "colab": {
          "base_uri": "https://localhost:8080/",
          "height": 35
        },
        "id": "OYEpTx_alox_",
        "outputId": "d4d9ad2e-50b9-464c-d407-4feae1b0ccd3"
      },
      "outputs": [
        {
          "data": {
            "application/vnd.google.colaboratory.intrinsic+json": {
              "type": "string"
            },
            "text/plain": [
              "'How are you Python'"
            ]
          },
          "execution_count": 111,
          "metadata": {},
          "output_type": "execute_result"
        }
      ],
      "source": [
        "pythonLines.first()"
      ]
    },
    {
      "cell_type": "code",
      "execution_count": null,
      "metadata": {
        "colab": {
          "base_uri": "https://localhost:8080/"
        },
        "id": "z4hJQliwkLT3",
        "outputId": "1038e23c-9ba7-40f1-f341-255c6425422b"
      },
      "outputs": [
        {
          "data": {
            "text/plain": [
              "<bound method RDD.persist of PythonRDD[106] at RDD at PythonRDD.scala:53>"
            ]
          },
          "execution_count": 112,
          "metadata": {},
          "output_type": "execute_result"
        }
      ],
      "source": [
        "pythonLines.persist"
      ]
    },
    {
      "cell_type": "code",
      "execution_count": null,
      "metadata": {
        "colab": {
          "base_uri": "https://localhost:8080/"
        },
        "id": "XEFJuTLIlwTA",
        "outputId": "64a18ae7-5eb3-47fe-da6c-48b7a8193fbd"
      },
      "outputs": [
        {
          "data": {
            "text/plain": [
              "1"
            ]
          },
          "execution_count": 113,
          "metadata": {},
          "output_type": "execute_result"
        }
      ],
      "source": [
        "pythonLines.count()"
      ]
    },
    {
      "cell_type": "code",
      "execution_count": null,
      "metadata": {
        "colab": {
          "base_uri": "https://localhost:8080/",
          "height": 35
        },
        "id": "tafMaSEhlyUr",
        "outputId": "7026b3a1-6128-490f-9558-a87084e8a99d"
      },
      "outputs": [
        {
          "data": {
            "application/vnd.google.colaboratory.intrinsic+json": {
              "type": "string"
            },
            "text/plain": [
              "'How are you Python'"
            ]
          },
          "execution_count": 114,
          "metadata": {},
          "output_type": "execute_result"
        }
      ],
      "source": [
        "pythonLines.first()"
      ]
    },
    {
      "cell_type": "code",
      "execution_count": null,
      "metadata": {
        "id": "KyRis469lzPR"
      },
      "outputs": [],
      "source": []
    },
    {
      "cell_type": "markdown",
      "metadata": {
        "id": "yvoqRPl_zYpL"
      },
      "source": [
        "Table 3-2"
      ]
    },
    {
      "cell_type": "code",
      "execution_count": null,
      "metadata": {
        "id": "kQqB-Ulx0-RM"
      },
      "outputs": [],
      "source": [
        "nums = sc.parallelize([1, 2, 3, 3])"
      ]
    },
    {
      "cell_type": "code",
      "execution_count": null,
      "metadata": {
        "colab": {
          "base_uri": "https://localhost:8080/"
        },
        "id": "qLVmJ3OZzaX0",
        "outputId": "a903fa60-510f-446f-c47a-3693806ef238"
      },
      "outputs": [
        {
          "data": {
            "text/plain": [
              "[2, 3, 4, 4]"
            ]
          },
          "execution_count": 116,
          "metadata": {},
          "output_type": "execute_result"
        }
      ],
      "source": [
        "# Map()\n",
        "'''Apply a function to each element in the RDD and return an RDD of the result.'''\n",
        "map1 = nums.map(lambda x: x + 1)\n",
        "map1.collect()"
      ]
    },
    {
      "cell_type": "code",
      "execution_count": null,
      "metadata": {
        "colab": {
          "base_uri": "https://localhost:8080/"
        },
        "id": "jZhPWpcXzyzo",
        "outputId": "343170b0-c47a-4b8e-ad12-3362879f18b3"
      },
      "outputs": [
        {
          "data": {
            "text/plain": [
              "[1, 2, 2, 4, 3, 6, 3, 6]"
            ]
          },
          "execution_count": 117,
          "metadata": {},
          "output_type": "execute_result"
        }
      ],
      "source": [
        "# flatmap()\n",
        "'''Apply a function to each element in the RDD and return an RDD of the contents of the iterators returned. Often used to extract words.'''\n",
        "fmap = nums.flatMap(lambda x: [x, x * 2]);\n",
        "fmap.collect()"
      ]
    },
    {
      "cell_type": "code",
      "execution_count": null,
      "metadata": {
        "colab": {
          "base_uri": "https://localhost:8080/"
        },
        "id": "sYsF4pZqA-6l",
        "outputId": "04668c75-7efd-47c9-b130-6979b2ea788a"
      },
      "outputs": [
        {
          "data": {
            "text/plain": [
              "[2, 3, 3]"
            ]
          },
          "execution_count": 118,
          "metadata": {},
          "output_type": "execute_result"
        }
      ],
      "source": [
        "# filter()\n",
        "'''Return an RDD consisting of only elements that pass the condition passed to filter() .''' \n",
        "\n",
        "fltr = nums.filter(lambda x: x != 1)\n",
        "fltr.collect()\n"
      ]
    },
    {
      "cell_type": "code",
      "execution_count": null,
      "metadata": {
        "colab": {
          "base_uri": "https://localhost:8080/"
        },
        "id": "PLg_UzVMBFoe",
        "outputId": "50c00628-8fbb-4524-db3b-7650218605ab"
      },
      "outputs": [
        {
          "data": {
            "text/plain": [
              "[1, 2, 3]"
            ]
          },
          "execution_count": 119,
          "metadata": {},
          "output_type": "execute_result"
        }
      ],
      "source": [
        "# distinct()\n",
        "'''Remove duplicates.'''\n",
        "nums.distinct().collect()"
      ]
    },
    {
      "cell_type": "code",
      "execution_count": null,
      "metadata": {
        "colab": {
          "base_uri": "https://localhost:8080/"
        },
        "id": "tJ90_J1JCINp",
        "outputId": "2fd98d81-f555-45e9-a991-d1acc0ac8b30"
      },
      "outputs": [
        {
          "data": {
            "text/plain": [
              "[1, 2, 3]"
            ]
          },
          "execution_count": 120,
          "metadata": {},
          "output_type": "execute_result"
        }
      ],
      "source": [
        "# sample(withRe placement, fraction, [seed])\n",
        "'''Sample an RDD, with or without replacement.'''\n",
        "\n",
        "nums.sample( False , 0.5).collect()"
      ]
    },
    {
      "cell_type": "code",
      "execution_count": null,
      "metadata": {
        "id": "v7O8UBUiDi6q"
      },
      "outputs": [],
      "source": []
    },
    {
      "cell_type": "markdown",
      "metadata": {
        "id": "_BpD2afDDjmt"
      },
      "source": [
        "Table 3-3"
      ]
    },
    {
      "cell_type": "code",
      "execution_count": null,
      "metadata": {
        "id": "oHBsS9yuD3Fx"
      },
      "outputs": [],
      "source": [
        "rdd = sc.parallelize([1, 2, 3, 3])\n",
        "other = sc.parallelize([3,4,5])"
      ]
    },
    {
      "cell_type": "code",
      "execution_count": null,
      "metadata": {
        "colab": {
          "base_uri": "https://localhost:8080/"
        },
        "id": "IfbghQhsDi34",
        "outputId": "2ed58804-06cd-4525-b685-a66eb8e29778"
      },
      "outputs": [
        {
          "data": {
            "text/plain": [
              "[1, 2, 3, 3, 3, 4, 5]"
            ]
          },
          "execution_count": 122,
          "metadata": {},
          "output_type": "execute_result"
        }
      ],
      "source": [
        "# union()\n",
        "'''Produce an RDD containing elements from both RDDs'''\n",
        "rdd.union(other).collect()"
      ]
    },
    {
      "cell_type": "code",
      "execution_count": null,
      "metadata": {
        "colab": {
          "base_uri": "https://localhost:8080/"
        },
        "id": "nlIA2RLuDi0P",
        "outputId": "1cbb77df-4936-4040-f1c5-57f59688475f"
      },
      "outputs": [
        {
          "data": {
            "text/plain": [
              "[3]"
            ]
          },
          "execution_count": 123,
          "metadata": {},
          "output_type": "execute_result"
        }
      ],
      "source": [
        "# intersection()\n",
        "'''RDD containing only elements found in remove training data).'''\n",
        "rdd.intersection(other).collect()"
      ]
    },
    {
      "cell_type": "code",
      "execution_count": null,
      "metadata": {
        "colab": {
          "base_uri": "https://localhost:8080/"
        },
        "id": "D7ap4LnGDiys",
        "outputId": "7af153b7-0366-4913-d5fc-d88251955c01"
      },
      "outputs": [
        {
          "data": {
            "text/plain": [
              "[2, 1]"
            ]
          },
          "execution_count": 124,
          "metadata": {},
          "output_type": "execute_result"
        }
      ],
      "source": [
        "# subtract()\n",
        "'''Remove the contents of one RDD (e.g., remove training data).'''\n",
        "rdd.subtract(other).collect()"
      ]
    },
    {
      "cell_type": "code",
      "execution_count": null,
      "metadata": {
        "colab": {
          "base_uri": "https://localhost:8080/"
        },
        "id": "SOBi4eSnDixR",
        "outputId": "99b22a9c-b1e8-458c-8c44-c595c73edc39"
      },
      "outputs": [
        {
          "data": {
            "text/plain": [
              "[(1, 3),\n",
              " (1, 4),\n",
              " (1, 5),\n",
              " (2, 3),\n",
              " (2, 4),\n",
              " (2, 5),\n",
              " (3, 3),\n",
              " (3, 4),\n",
              " (3, 5),\n",
              " (3, 3),\n",
              " (3, 4),\n",
              " (3, 5)]"
            ]
          },
          "execution_count": 125,
          "metadata": {},
          "output_type": "execute_result"
        }
      ],
      "source": [
        "# cartesian()\n",
        "'''Cartesian product with the other RDD. '''\n",
        "\n",
        "rdd.cartesian(other).collect()"
      ]
    },
    {
      "cell_type": "code",
      "execution_count": null,
      "metadata": {
        "id": "o9CM8magDivU"
      },
      "outputs": [],
      "source": []
    },
    {
      "cell_type": "markdown",
      "metadata": {
        "id": "jMNahCQcIqIG"
      },
      "source": [
        "Table 3-4"
      ]
    },
    {
      "cell_type": "code",
      "execution_count": null,
      "metadata": {
        "id": "uzEziByaDit2"
      },
      "outputs": [],
      "source": [
        "rdd = sc.parallelize([1, 2, 3, 3])"
      ]
    },
    {
      "cell_type": "code",
      "execution_count": null,
      "metadata": {
        "colab": {
          "base_uri": "https://localhost:8080/"
        },
        "id": "otR4DIWyDir5",
        "outputId": "ce4887c4-e2df-4cdf-e290-287f43f36000"
      },
      "outputs": [
        {
          "data": {
            "text/plain": [
              "[1, 2, 3, 3]"
            ]
          },
          "execution_count": 127,
          "metadata": {},
          "output_type": "execute_result"
        }
      ],
      "source": [
        "# collect()\n",
        "'''Return all elements from the RDD.'''\n",
        "rdd.collect()"
      ]
    },
    {
      "cell_type": "code",
      "execution_count": null,
      "metadata": {
        "colab": {
          "base_uri": "https://localhost:8080/"
        },
        "id": "BB18SpjvfSFI",
        "outputId": "75013e23-e712-45d9-c201-65e7e6c7814e"
      },
      "outputs": [
        {
          "data": {
            "text/plain": [
              "4"
            ]
          },
          "execution_count": 128,
          "metadata": {},
          "output_type": "execute_result"
        }
      ],
      "source": [
        "# count()\n",
        "'''Number of elements in the RDD.'''\n",
        "\n",
        "rdd.count()"
      ]
    },
    {
      "cell_type": "code",
      "execution_count": null,
      "metadata": {
        "colab": {
          "base_uri": "https://localhost:8080/"
        },
        "id": "OmSVg5WefSCV",
        "outputId": "4e350cbc-8a42-4781-c218-81f2d0a91ce7"
      },
      "outputs": [
        {
          "data": {
            "text/plain": [
              "defaultdict(int, {1: 1, 2: 1, 3: 2})"
            ]
          },
          "execution_count": 129,
          "metadata": {},
          "output_type": "execute_result"
        }
      ],
      "source": [
        "# countByValue()\n",
        "'''Number of times each element occurs in the RDD.'''\n",
        "\n",
        "rdd.countByValue()"
      ]
    },
    {
      "cell_type": "code",
      "execution_count": null,
      "metadata": {
        "colab": {
          "base_uri": "https://localhost:8080/"
        },
        "id": "zvT01AJPfSAE",
        "outputId": "b0ae62d6-787f-4c8c-a1f1-b0a3226327e7"
      },
      "outputs": [
        {
          "data": {
            "text/plain": [
              "[1, 2]"
            ]
          },
          "execution_count": 130,
          "metadata": {},
          "output_type": "execute_result"
        }
      ],
      "source": [
        "# take(num)\n",
        "''' Return num elements from the RDD. '''\n",
        "rdd.take(2)"
      ]
    },
    {
      "cell_type": "code",
      "execution_count": null,
      "metadata": {
        "colab": {
          "base_uri": "https://localhost:8080/"
        },
        "id": "NV25os79fR9m",
        "outputId": "d3bd1a93-df35-40eb-b9a6-d0b4f349cde3"
      },
      "outputs": [
        {
          "data": {
            "text/plain": [
              "[3, 3]"
            ]
          },
          "execution_count": 131,
          "metadata": {},
          "output_type": "execute_result"
        }
      ],
      "source": [
        "# top(num)\n",
        "'''Return the top num elements the RDD. '''\n",
        "rdd.top(2)"
      ]
    },
    {
      "cell_type": "code",
      "execution_count": null,
      "metadata": {
        "colab": {
          "base_uri": "https://localhost:8080/"
        },
        "id": "SufGft87fRvw",
        "outputId": "89efa2b2-613f-46aa-c5c4-ee2c39fcc082"
      },
      "outputs": [
        {
          "data": {
            "text/plain": [
              "[1, 2]"
            ]
          },
          "execution_count": 132,
          "metadata": {},
          "output_type": "execute_result"
        }
      ],
      "source": [
        "# takeOrdered(num)(ordering)\n",
        "''' Return num elements based on provided ordering. '''\n",
        "\n",
        "rdd.takeOrdered(2)"
      ]
    },
    {
      "cell_type": "code",
      "execution_count": null,
      "metadata": {
        "colab": {
          "base_uri": "https://localhost:8080/"
        },
        "id": "X2GVvTdpyaBF",
        "outputId": "a75ca7da-e696-43de-9b9a-75ec75e32115"
      },
      "outputs": [
        {
          "data": {
            "text/plain": [
              "[3]"
            ]
          },
          "execution_count": 133,
          "metadata": {},
          "output_type": "execute_result"
        }
      ],
      "source": [
        "# takeSample(withReplacement, num, [seed])\n",
        "''' Return num elements at random. '''\n",
        "\n",
        "rdd.takeSample(False, 1)"
      ]
    },
    {
      "cell_type": "code",
      "execution_count": null,
      "metadata": {
        "colab": {
          "base_uri": "https://localhost:8080/"
        },
        "id": "4nVl1Ij2gjA1",
        "outputId": "5c373015-09fc-4842-b299-b6791bce4754"
      },
      "outputs": [
        {
          "data": {
            "text/plain": [
              "9"
            ]
          },
          "execution_count": 134,
          "metadata": {},
          "output_type": "execute_result"
        }
      ],
      "source": [
        "# reduce(func)\n",
        "''' Combine the elements of the RDD together in parallel (e.g., sum ). '''\n",
        "\n",
        "rdd.reduce(lambda x, y: x + y)"
      ]
    },
    {
      "cell_type": "code",
      "execution_count": null,
      "metadata": {
        "colab": {
          "base_uri": "https://localhost:8080/"
        },
        "id": "Wk2V71L1g06b",
        "outputId": "53fe6cb1-ca3e-40e7-e751-70c350e35658"
      },
      "outputs": [
        {
          "data": {
            "text/plain": [
              "9"
            ]
          },
          "execution_count": 135,
          "metadata": {},
          "output_type": "execute_result"
        }
      ],
      "source": [
        "# fold(zero)(func)\n",
        "''' Same as reduce() but with the provided zero value.'''\n",
        "\n",
        "rdd.fold(0, lambda x, y: x + y )"
      ]
    },
    {
      "cell_type": "code",
      "execution_count": null,
      "metadata": {
        "colab": {
          "base_uri": "https://localhost:8080/"
        },
        "id": "qGfMOz2IhJi6",
        "outputId": "a23bae58-e22d-4974-e639-777a7097035c"
      },
      "outputs": [
        {
          "data": {
            "text/plain": [
              "(9, 4)"
            ]
          },
          "execution_count": 136,
          "metadata": {},
          "output_type": "execute_result"
        }
      ],
      "source": [
        "# aggregate(zeroValue)(seqOp, combOp)\n",
        "'''  Similar to reduce() but used to return a different type. '''\n",
        "rdd.aggregate((0, 0),(lambda x,y:(x[0] + y, x[1] + 1)),(lambda x,y: (x[0] + y[0], x[1] + y[1])))"
      ]
    },
    {
      "cell_type": "code",
      "execution_count": null,
      "metadata": {
        "id": "JEy7Y5-eiQvT"
      },
      "outputs": [],
      "source": [
        "# foreach(func)\n",
        "''' Apply the provided function to each element of the RDD. '''\n",
        "\n",
        "rdd.foreach(lambda x: print(x))"
      ]
    },
    {
      "cell_type": "code",
      "execution_count": null,
      "metadata": {
        "id": "AvgOOcvOlfWD"
      },
      "outputs": [],
      "source": []
    },
    {
      "cell_type": "markdown",
      "metadata": {
        "id": "eeN_5Zxp0ka7"
      },
      "source": [
        "b"
      ]
    },
    {
      "cell_type": "code",
      "execution_count": null,
      "metadata": {
        "id": "ik4t1bW1xMwL"
      },
      "outputs": [],
      "source": [
        "from pyspark import StorageLevel"
      ]
    },
    {
      "cell_type": "code",
      "execution_count": null,
      "metadata": {
        "id": "W3tVQPHtzj09"
      },
      "outputs": [],
      "source": [
        "from typing import List\n",
        "from pyspark.sql import Row"
      ]
    },
    {
      "cell_type": "code",
      "execution_count": null,
      "metadata": {
        "id": "_PIAAb5A0lqZ"
      },
      "outputs": [],
      "source": [
        "result = nums.map(lambda x: x * x)"
      ]
    },
    {
      "cell_type": "code",
      "execution_count": null,
      "metadata": {
        "colab": {
          "base_uri": "https://localhost:8080/"
        },
        "id": "GDMa_eZWxg80",
        "outputId": "4d5865b4-a8fd-4df5-dfa6-5fa96bede6dc"
      },
      "outputs": [
        {
          "data": {
            "text/plain": [
              "[1, 4, 9, 9]"
            ]
          },
          "execution_count": 141,
          "metadata": {},
          "output_type": "execute_result"
        }
      ],
      "source": [
        "result.collect()"
      ]
    },
    {
      "cell_type": "code",
      "execution_count": null,
      "metadata": {
        "colab": {
          "base_uri": "https://localhost:8080/"
        },
        "id": "Fi4WeBtC0loH",
        "outputId": "e841e224-2659-4bed-aae6-f9f245d95267"
      },
      "outputs": [
        {
          "data": {
            "text/plain": [
              "PythonRDD[153] at collect at <ipython-input-141-e43ab5090625>:1"
            ]
          },
          "execution_count": 142,
          "metadata": {},
          "output_type": "execute_result"
        }
      ],
      "source": [
        "result.persist(StorageLevel.DISK_ONLY)"
      ]
    },
    {
      "cell_type": "code",
      "execution_count": null,
      "metadata": {
        "colab": {
          "base_uri": "https://localhost:8080/"
        },
        "id": "HXPQ9z250llg",
        "outputId": "2b547ec1-0017-40a3-c723-858727b371f2"
      },
      "outputs": [
        {
          "data": {
            "text/plain": [
              "4"
            ]
          },
          "execution_count": 143,
          "metadata": {},
          "output_type": "execute_result"
        }
      ],
      "source": [
        "result.count()"
      ]
    },
    {
      "cell_type": "markdown",
      "metadata": {
        "id": "gqWl3MIO06KK"
      },
      "source": [
        "# Question 2"
      ]
    },
    {
      "cell_type": "code",
      "execution_count": null,
      "metadata": {
        "colab": {
          "base_uri": "https://localhost:8080/",
          "height": 70
        },
        "id": "EufsTsCq9hep",
        "outputId": "41cffde8-d928-4f72-e3b2-8f19b503d0b8"
      },
      "outputs": [
        {
          "data": {
            "application/vnd.google.colaboratory.intrinsic+json": {
              "type": "string"
            },
            "text/plain": [
              "'\\nThe PageRank algorithm outputs a probability distribution used to represent the likelihood that a person randomly clicking on links will arrive at any particular page.\\n1. Initialize each page’s rank to 1.0.\\n2. On each iteration, have page p send a contribution of rank(p)/numNeighbors(p) to its neighbors (the pages it has links to).\\n3. Set each page’s rank to 0.15 + 0.85 * contributionsReceived.\\nThe last two steps repeat for several iterations, during which the algorithm will con‐ verge to the correct PageRank value for each page. In practice, it’s typical to run about 10 iterations.\\n'"
            ]
          },
          "execution_count": 144,
          "metadata": {},
          "output_type": "execute_result"
        }
      ],
      "source": [
        "'''\n",
        "The PageRank algorithm outputs a probability distribution used to represent the likelihood that a person randomly clicking on links will arrive at any particular page.\n",
        "1. Initialize each page’s rank to 1.0.\n",
        "2. On each iteration, have page p send a contribution of rank(p)/numNeighbors(p) to its neighbors (the pages it has links to).\n",
        "3. Set each page’s rank to 0.15 + 0.85 * contributionsReceived.\n",
        "The last two steps repeat for several iterations, during which the algorithm will con‐ verge to the correct PageRank value for each page. In practice, it’s typical to run about 10 iterations.\n",
        "'''"
      ]
    },
    {
      "cell_type": "code",
      "execution_count": null,
      "metadata": {
        "id": "_6R3Id4lB7um"
      },
      "outputs": [],
      "source": [
        "links = sc.parallelize([(\"MapR\",(\"Baidu\",\"Blogger\")), (\"Baidu\",(\"MapR\")), (\"Blogger\",(\"Google\",\"Baidu\")), (\"Google\",(\"MapR\"))])"
      ]
    },
    {
      "cell_type": "code",
      "execution_count": null,
      "metadata": {
        "colab": {
          "base_uri": "https://localhost:8080/"
        },
        "id": "ltP1leLfC1ZY",
        "outputId": "ab411bfb-7e33-4584-f108-5b449a7b3c4a"
      },
      "outputs": [
        {
          "data": {
            "text/plain": [
              "[('MapR', ('Baidu', 'Blogger')),\n",
              " ('Baidu', 'MapR'),\n",
              " ('Blogger', ('Google', 'Baidu')),\n",
              " ('Google', 'MapR')]"
            ]
          },
          "execution_count": 146,
          "metadata": {},
          "output_type": "execute_result"
        }
      ],
      "source": [
        "links.collect()"
      ]
    },
    {
      "cell_type": "code",
      "execution_count": null,
      "metadata": {
        "colab": {
          "base_uri": "https://localhost:8080/",
          "height": 35
        },
        "id": "Yx3GW8ZxJLed",
        "outputId": "07c73e44-9581-4ad7-b971-3803a27db5ef"
      },
      "outputs": [
        {
          "data": {
            "application/vnd.google.colaboratory.intrinsic+json": {
              "type": "string"
            },
            "text/plain": [
              "' Initialize each page’s rank to 1.0'"
            ]
          },
          "execution_count": 147,
          "metadata": {},
          "output_type": "execute_result"
        }
      ],
      "source": [
        "''' Initialize each page’s rank to 1.0'''"
      ]
    },
    {
      "cell_type": "markdown",
      "metadata": {
        "id": "4Mrr0YgiIb7K"
      },
      "source": [
        "![a1.png](data:image/png;base64,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)"
      ]
    },
    {
      "cell_type": "code",
      "execution_count": null,
      "metadata": {
        "colab": {
          "base_uri": "https://localhost:8080/",
          "height": 35
        },
        "id": "kx5_ebNc0m5R",
        "outputId": "32321a63-3b1d-4b72-eca9-df8eaa24fe13"
      },
      "outputs": [
        {
          "data": {
            "application/vnd.google.colaboratory.intrinsic+json": {
              "type": "string"
            },
            "text/plain": [
              "' On each iteration, have page p send a contribution of rank(p)/numNeighbors(p) to its neighbors  '"
            ]
          },
          "execution_count": 148,
          "metadata": {},
          "output_type": "execute_result"
        }
      ],
      "source": [
        "''' On each iteration, have page p send a contribution of rank(p)/numNeighbors(p) to its neighbors  '''"
      ]
    },
    {
      "cell_type": "markdown",
      "metadata": {
        "id": "Be8dgQc9InOJ"
      },
      "source": [
        "![a2.png](data:image/png;base64,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)"
      ]
    },
    {
      "cell_type": "code",
      "execution_count": null,
      "metadata": {
        "colab": {
          "base_uri": "https://localhost:8080/",
          "height": 35
        },
        "id": "KdLhZWGP0m2D",
        "outputId": "2218f3bc-2b3b-418d-d8e3-dea5efb43c47"
      },
      "outputs": [
        {
          "data": {
            "application/vnd.google.colaboratory.intrinsic+json": {
              "type": "string"
            },
            "text/plain": [
              "'  Set each page’s rank to 0.15 + 0.85 * contributionsReceived. '"
            ]
          },
          "execution_count": 149,
          "metadata": {},
          "output_type": "execute_result"
        }
      ],
      "source": [
        "'''  Set each page’s rank to 0.15 + 0.85 * contributionsReceived. '''"
      ]
    },
    {
      "cell_type": "markdown",
      "metadata": {
        "id": "1RteM8teIrAR"
      },
      "source": [
        "![a3.png](data:image/png;base64,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)"
      ]
    },
    {
      "cell_type": "code",
      "execution_count": null,
      "metadata": {
        "id": "-2_6YQnC0mz4"
      },
      "outputs": [],
      "source": []
    },
    {
      "cell_type": "markdown",
      "metadata": {
        "id": "D8avzyA0IuKQ"
      },
      "source": [
        "![a4.png](data:image/png;base64,iVBORw0KGgoAAAANSUhEUgAAA7QAAABDCAYAAACsuEmSAAAABHNCSVQICAgIfAhkiAAAIABJREFUeJzt3Xd4FWX68PHvzJxz0hshvYeO0hVwRQEFC6y9CxYQhV3F8trWn6517Su6NsReALuushZUFEEB6SAIBEhCeu/ltJl5/0iABJKcExIgwftzXVxe5jln5pn7njMz9zxTlLFjx5oIIYQQQgghhBDdjHq0OyCEEEIIIYQQQhwKKWiFEEIIIYQQQnRLUtAKIYQQQgghhOiWpKAVQgghhBBCCNEtSUErhBBCCCGEEKJbkoJWCCGEEEIIIUS3JAWtEEIIIYQQQohuSQpaIYQQQgghhBDdkhS0QgghhBBCCCG6JSlohRBCCCGEEEJ0S1LQCiGEEEIIIYTolqSgFUIIIYQQQgjRLUlBK4QQQgghhBCiW5KCVgghhBBCCCFEtyQFrRBCCCGEEEKIbkkKWiGEEEIIIYQQ3ZIUtEIIIYQQQgghuiUpaIUQQgghhBBCdEtHqKANIyV0DCPDxjAybCixmnJkZtvtqCRcOZdvnj6HsKYhUnpy/pxveOmyWA5v5FqZf3dnHc3dX/7I0qVLWfrDa1yVoravXQghhBBCCNElHaEj93IyKn5hdUUa5eaRmePRoA2YyXvfPMhY66FOwaQ2fRU/rM3C2Zkda+S5f4d3/keNaxVPnnsa4yY/yq+uQ2jvJB1fP4QQQgghhBBNWY52B0RTJmWr3uGZVX/W+QshhBBCCCGE9/YXtEoAEX69iLUFYkPHqVdSULeDQn3/kKrFEkOCXyxhmg+KWU+1cw+Z9WU4UfCxJZPoE06gZkPDSa0zh6z6Amq9GpFt+/tWW2+SLXUUO4qo0N2HuKgKQQPOZ9asixjTLxJLTTa/f/c6z7y2kmIT8OvF5Jtu46qxfQlXyklbvoDnnl/EzjoTlDDOeep9zsl5i40Jk5gwIBIl+3v+88BzLC00UBOv5OU3b6B/YzQf+n4pAK7fnuLif3xNpQlg5eR7P+OmmueZ5ziTGZMGEaGWsfbVO/jnl7lopz7A/x4aj48CrjXPcOldiw4YzVZQo8dx64sXcEYfP8p//5Lnn3idVSVGY/8WMmnDDdy4MBsD8J/4KJ9euZvZM94kPc5z/6ye5t+B+ADg24u/3nwbU0/tS7ilnuKMTXw85yE+36kf/vx1BksUo6+ZzfWTRpAY6CR/09fMm/MGvxbsXR9b719pgjfrhxBCCCGEEKK9Gg+xFXx9epFkqSOjegfVpoaPJQxbkw8qagy9ApPQHLtJq63CpQQQZvPBCjgBi2JS69hFnl6PmwAi/PvSx8/O5roKDG860sb3db0CuzWelKAkdHcRRY58il11eFsKAaix5/LAk9PwW/wf/vH0Fip8UjhlYjRhKhTrvgy9/hFmH7eROXc8xhZjIFfccwcPz8xl+rPrqAdAI/WU41j0/2ZyUX445z7yMjdNXc7KZ9bgyFrIrAkL0QbM5O05Mbx+7oP83OKlqyoh46ZyxmfPc+fl91Ae2J/hUQ5MwLXsIc4c/wgJV77Eq8Na+q5G3zNOZeuT/2B6RggTbr2fe+/IYfo9X1PsYdkNL/rX9vw7GB9U4s67jZuO38NTtz7C5ho/YgeOIqod9+l2PH8d4ctx0x/n/07YwssP3cDGkkAGX3knd99XwU03f0iW4aF/Xq8fQgghhBBCiPbYN0JrVW2YRiGVugM34HTWNfmYgr9PDEF6Dlvqi7ED4KBgX6VgUuvIpHbf5x3kOyqJ8g3GlwqaTqllHr6vl5BdW0KOGkiYLYZI/yHEUU2pI49CRzn1pqchLo0+ky9kUO77zJi7hGwDoJCPdu9d+EFMHB/Cmpde4fvtVZjkMe/dMYy7ZSJDXlrHKheAQemyT/k2y45JHst+SWPW5D5Eqmsap+cda8Fi5i5YR74B1P3OiiJvv2lSu2I+byzbTT3w/puLOeuZ0xjd4xsWlXk//0PS4fiohEf0xMz7mvW7C6kwoaQgsx0d6GD+OnpDsP9ILpzsw7f3vsC3Wxoq0cJ5HzD2gwsYE/cxC7OVtvsnhBBCCCGEOCwaC1qTWmcx9sBeHB8cTqWrmhpXMaVue+Poqoaf5otLr8LRyoQ0LZpE/zhCNV+sSsPQm2nYvX7qlDffN40ayuw7KbPvIdivH738BuDPOv6w2z1M3ZeklCgqtm5tKCQPoITEEuNXzNasWvaWxvVZmRT5DiM2TIGihhiVl5Q3jgqbOBxO8PHFp11PAzap2rmDgnYUwPsZ5Gdm74u/npNFLicTF6nCYS5oOx4fN2lLvyPryZt5/ZUxrN74B1t/W8KS9fl4ylyDDuavsGPX9GoxqSQHxnH6i99zadMGI5/8UBWyfdrsnxBCCCGEEOLw2DdCa7j38EdlCcHWUIKtPYkPiiOsbgNpjqYlbCvVmxJCfGAK/s4dbKupwG4aqLb+DPPzshdefl9R/AmxRRPhE0Gw4qDCvpNCZ2sldkvz6ci7aExMDiiM2j05E6fTeeBUOmB/jw6cpsIhdK/DfWk9PvYtb3LjlKUMG3UCw04Yx/QnL+WU567nnq8KvY9Hh/LXQa71PHvZ7XxR0lJvfRr+czT7J4QQQgghxJ9QswFU06yl0plLdu3v7HK4CbYGN35Ap163Y9WC9h66N6cEEqDUUOIow24agIKP6tvC6KyBiXrw3z18X9XCiQsYzOCQoSTbrNTZ/2Bz5UZ21xdRY3hTDtnZk1FI6MCBxLQwZGxW5pNfH0FyYsC+GswvMZlIRz557XnPkGFgKBqWw/LsaJWYpPh98dfiE4mjgJwCA0wnDifYbLbG/quEhYcdXNAeYv86Kz7uinTWLP6IVx+9hYe/qGXoqOMOWJ8sBIRHERUecMDjtzspf7obt2nD19ZK4dlKu56fTqYzheMHBLRykqDt/u1zWNcPIYQQQggh/nwaD78VAnySibEF46fasGk96GGx4tDrG0fPTOoc+VRr8aT6RRCo+uCjhRLpF00AgGnHbvoRZPFBAVQtkjifgIPnZtZRZ/gS6hOGr2rDqjTO3sP3LZZwgignp3oNm6p3kOuspn3P1NHZ+dVn/B53BXfPOo0BcZFEJY/g/OvOoa8GuDazZGkVJ06dyYR+scT0PZ0brh5N3c9L2NyO+y+NkgKK6MOJo2MI8LFhtXTmiJ1CwMlTmTYmleiE4Vw+7QyC1v3AbxUmYCd9Zx6xo04mxRfUsBGcf0ZvtM7qX4fjo9H3nJlcPn4wKdE9iex1EuOGhlKQlds8j2ocFzy+gAVPXkxis8Kwk/LnzGBXThQnnTmKxJ49CAvyaV6gttZet5rPv6rklJvu4fJRvYiJSWLASefx93uvYojFi/51NP5CCCGEEEKIFu0bK9JNKyG+/YhRbag4qHNmkG6v2X9Jq5HP7hpI8Euir48NxbRT48ykAsAsI6cumFT/oQzz03EZFRQ6ygg5aDi3jsK6bIIC+jHIRwPXLjbWFODy8H2nI43t7biyuCVG3pc8fLfKzFnX8eSbkVhrcti8+DV+NQDsbHjtfl6afQsz5rxDD8rZ9cs87p+31osHWu1nlv3IO++exJ23vsOi+63oq5/27rUsWm+mvz6Pq1P2Vj8D+Pyn28H1Oy9efTOfFADopH23HN8rn+Lt3r6Ubvov/5rzHQ1XwOqk/3cunw29i/98dA4lGav54tdNuMd42T/Vw/zzOxofE7srmJFX3cuVceH4OotJWz6Xx95P8/pJ1Z2SP2MPn78wn+PvuZe3LvDHWDun+euJWm23s+WNu3nQ8Xem3/4800OhqjCdTT9/SJHhTf88xF9e2yOEEEIIIcQhUcaOHSuH00IIIYQQQgghuh1vH0IshBBCCCGEEEJ0KVLQCiGEEEIIIYTolqSgFUIIIYQQQgjRLUlBK4QQQgghhBCiW5KCVjTjf5ybhLFuQoOPdk+EEEIIIYQQom1S0B5B6kAnp79by+T3apn8lp34Fl7Vi2qQcm8dZ93nIuCIZ8ckdKKDwdNdxEQd6XkfRf5uTnizlklPOwk98OW9gO8EO2e/15i392oZPcGk3W+QVUyS/lHHWQ+4CGphHnv7MPm9Wia/W8fgwYewHH8Kvgy56W1evbY31kNq/7PSSJ46l3dvHYH/YZ3P4Yy/SsKVc/nm6XMIa/MHqBBxwbN88+KlxHabVz134fxYR3P3lz+ydOlSlv7wGlelyGFD+3Xh/B5ux8T6cyzkT7afHdcFf19dgqf4H5n8WDx/pJNokfQ44RJieyVjpYq6jG/Zs3oNdm9fROrNLIY4OO12NzYU8p73Y8ParvlrrFtpY/tqlQr7wW3W4S569YXClyzUNnmHqRrjpt9UF3H9DCxuhfpsjYJvraStU/e9K9h3gp3x1+hUf+LHr1/s/3t3p0S4GP2Ukx4amC4Fe6FKyS9W0hZrnbr+tMadpZG5WMUn1U1sn0OMqqmQu1ijzy0u+pxoYf2qA9ZNh8bul30oHuHiuJOPUuZsJ/D/FjzO2eoS7p/yBCtbWD+PNiX6bK4Zl8un1+/G5VW7QvTF/+G9mwaS/tp1/G3BHgxUkqbM5Y3rU9kx9xpu+jCvQ78VJWwyT310JydawTR0HJW5/LH8I16Z9xVptd5N2W/ghcy+egJDBvYh1m87L119M5/kt6NXWhQnX38HsyYNJlIpZus3r/L0q8vId+/9gM6e/31K5utXM+nj9XySe3jWsRbzYx3Obe//m/N6qmAauB2V5GxZyvsvzmNxZntWMpPa9FX8oGfhPAx9b5PH+LbFyqn3L+Kh03z3nwgzylh012U8s3ZvlLpwflyrePLc03gyYCKPfnLpYenXUXcs5xdA8afXmdcx6/LxHB/jS33Bdn759FVeXbSdmsO9uzkS68+xnD/Zfnbh/MjxRQNP8T8y+TlCp8o0/AdfS/KA3lhdRdhdQQT2u5xeQ5M7tQPBAw2sgGmahB1ndNnhZ1euRsFajfoDizHFJO4MN7YajdxNTQoezaDPLQ5SBxkoJRoVuQpakpuUv3T2MirkPRfAV9f4sW1np064c7gVHNVgi9dJuNzO6Kk61iNwzsKdZmXbfBu7NnVsZu6tFgqrTKImuvE/cFK6QvlaC8XZHLUTEdZ+oxlW+h2L84cwemBXPP+o0evsv5K6+Tt+KW8pSq23GyVlhI4ZQ7wKqAmMGRNKWUknRtoo54cnpnPNtBnc9uSXVIy4mcduHEVLF2EcTMHi54N954+8t/AXitvdLZWEi+7j3jNNvnlwJjPv+4L60+7hn5ck0/RiALNiBd9tSOSvZ/ehpYsEOq6t/LjZ8vZsrrlmGjfc9hTfOcdwx4NT6NuujpiUrXqHZz7chJf78U7iXXzbZlC8+HFmzpjBjBkzmHH9/+Pdrc2P5rp/frqrYz2/KjGT7ueZW4ZT+sXj3PK3m3nglR+pjEulZ9c8599Ox3r+QLafXTs/cnzhOf6HPz9NR2gDx9LvwgsIKPuZnPxIIvr2xsdip2rNf9i1vQR8UogceS6RCfHYVDuOwnXkr/6KssrG8xSBxxM7ejLh0ZFYsOOqyqJs3QJyc2tATSG8dzSKvovsr1+m2BxNnwsvJbjXiQRuzKRqX2Gn4R8Whj91lJfX0a7BN9UgfIABBRqFbp2ofjqBmrZv2ntH+cKyrPyx1SBpvI6/TaF0oS9rlqjgoT3wFAcDztAJiTaxqAr2PRoZC21k7lLwO8POuKk69d/48fP7DSOjwRfUM+ZCg6p2jJYqPdxE9wF9vUaZo8nfI3R6RoOZbmPFw9aGkVtfg4gUMAB1sIPT73Bja9w5hVxcz6SLAbuFdX/zocDtefnDptQx+qzGS2kNlfR/NSlqNYMBT9ST2lMjYxFEnqnjU6eRPs+HndsbZqrGuRk000lMLFT/aqUiyUlyssq2u/1IL2xPIltn5lj57UErjlQnI+9xEXqqi5gvNbLKgQCD5CkOUkcY+CgKVRusbJtvpawasOgMfsFOPBbWzvahCDfDX3UQXWXlt9ttlO4LtEnYJDtD/6pjq9bIfMuHtK1e7vEDdVKmuEgepuNrUajbYWHnAht5eU0+41Qp3qaQOFInOsJKelHnxKVzaKSOHgGbnuVr1wDuGd0Py/ot7N9lWDn53s+4qeZ55jnOZMakQUSoZax99Q7++WUuRpvt+USfOpMbrziFgckR+LuK2b78A156eRFptSZq8lW88spJLJlxEx/mNF6W4HMit8+/F/8XpvDIstrGLiZzypgYtn+8kboWF6H1dqPgV1YqJzEm/n0+4GROMlbya8FZ9AVAJbaN/qFEcdFz73Bm/mdkp4xnWLQvtdu+5Lkn32bdvh2bTk1hNll7XLBnD2+lns4b555AL8sqNns8C21Sve59nl8H2oBwppg925m6VCae1Y+8/87ig/WZGGTxyqen8fpZE+j10euk7duQ1rNp9VYippxCr7fSmvy9k7SZHxNHWS5ZWWWY7CH7y3Vc/nBvUv0V0qqVtuMPWE99gP89NB4fBVxrnuHSuxbR9JhCCRvO1XfdykXDI3GlL+GTrdb9Z/OVMM55aiGTNtzAjQuzMQD/iY/y6ZW7mT3jTXZ5ioPX8W2bqyKH3bt20frq0FXz48Xey68Xk2+6javG9iVcKSdt+QKee34RO+savquEDGXq3bdzyYgInOnf8/HvyUwbuJzpsz8iz/TcjiWK0dfM5vpJI0gMdJK/6WvmzXmDXwv2RtPT9qmtuBzj+fUZyuXXDKdw4Q08/Xlmw3FV+i5+X9nkMx7y19H8euQxv20t9zGeP0C2n107P3J8AZ7jf5jzQwsjtEqPMcT1DqB+zypKsovBYkFRehI5biYJqbGYJZspyylBjR5L8sTzCbYCBNNj1FSi44Jw7vmZgu0bqXVFEBDq2zBR/zj8/VTMqt3U1JlQn051hQG+sfg1HapS47nwyQ/44OlLSGrv0GOIQXg8uNMt5O5WIMYgPOzgjylJLvqfalK9xkrOBhXDx7v2wKE6QaZK8Qore1aqKCluBs50EWYB+1qNMhf4D3MTogGqQcRQA0VXKVjj/aW/aqpBiAa1mWqzYt6sU3DqQJRO/BADiwLYVYq3NUzbLNHI/sFKznYFE3DusrDnByuZP2nUHTDz1pbPnmZhzw8WitsqsjSd2OMUCjeoEK7T+5LGkUbNoNcsB/HJJnqRijLERVKylwt9CFy7rWRtB6wGPZIBxSRhlp2BYwy0Mo2yYgg5yckJN7oOHgltgxLupt/ZJq5SBS1Sp/csJ1HeXPCvGiTPdjDgZAMz00LeJhXLQBdD73DS06/ZHKjKVDE0nbBenXX2ruF+l++XLm24R6nZv+956bJY7+73VRMZdWIQv2/Ywc4NW7CdMIrUg06jqYSMm8oZte9z5+V/5bzpj/FVhqPJ+t1au0JgiMkfn/2bu2+YyrW3vcDm+Bk8MnMEvoCR9RNLdqcy7tS4fRsk38HjOElbxZK1tfuXNHggA+OK2Jle0+Jvqs12PY9fV8BfxiSSOOYvsOJX8vb9yNruXwON3qNT2PSva7nooht4o/pM7rt1fAv3IilYwwYybmQiqsOB4wicCVf8e9Enro4d27IbD9wNCrbvoDq6D70Dm3bQpHZXGnnRxzGg7ZuoDq0fHvKz73M+UYwacxw+uTtJrzPxJv6uZQ9x5vjTuOrVbQcf0ChhjL/ln1wStJzHZk7nzgV1nHr2gE47C+x9fNuiEjnpUf773fd89dE8HpgynB4H7eO6an488WXo9Y8w+7gs3rzjWq657TXS+/2dh2cOxw9ACeHUm+/nspBfeGLWNO54p5qTz2qSH0/t+HLc9Mf5v1FlfPzQDVw17R/MLxrF3fddRGKzGHraPrWyvMd4frXUExgems3KFdmtDBJ4yF9H8+uRt/ltZbmP8fwd9DnZfna9/MjxBZ7jf3jzAy3dQ2tkkPvNyxRVNXRdUVQIn0RElA9G7gek/fAbLjQCTvgH/Y4fQc+4L6naE4xPkA30HCq2LKag3AGoqI2/CMUnoOHH4YCgMffTW1tKidME/LH4KODNGWBPC9JXJ9QCleka5S4Vc6xOeH+TjF8OCJxbY8e/fMkoaOyb1nCJp+KhveQdP36qUbCEmFhsJo7Ievr31QnrCeWFFvK2O+l5nE5UAlTW6UQlgpFpIb/A+2XwjTBQFbCXKc1/MFUaOz/XCLlYp/dt9aSUauQtsbJrsUadC8w8C9vfBd8JBrH9deo3Wtna2qhwK8tXt8bG1jUmsbe6iWjtBI6hkvmGD7tK3PgOcxATYxCgQX2cm5iEhhHU1Q/YqAp1MeoJJ+GH67oCU6G+RMFUTGwhJkqsm6RBJuRYWfOgjQrDoM/99fTt7yYhycqOHC+nq6hkPO3HjiyDlHvqGdhXJ6oPFG7y8LUkN0n9TPTNPqx8xoLDhLAr6jnpbDeJg6yUrN6/DjpKG3LrF2mioHh9sqN1JuVLnmbW7/4tFK4m9pJir+ahxoxkVMx2/rvVicvYwLaelzMy/i3S9jQf27AWLGbugnXkG0Dd76w44ARIa+1pi14hbd+nCln4xUYumjqIOG0tu/Vcfl6yg2vPGkviB/PJNHwZMm4UrHyK9U1OhapRMURRxvKylsdb2m43yP11Bdx9OZcDK57MxRi5t01vu38GgEnZso/5JtuBSTHLP/2R6c+czolBP/E9gBrOec8s5lwat5l6Cb/O+YqdR+Aeb4JCCaaajJoenH7/C8zUXmP2/Eqq6EdosAKV+9cAs7SYUiKJidSgxKsbmLzWdvytDLv5Q76bDYpmwSj5jXn3LGg8S+sh/h5iqASNZMJInR//+Q6rMp2Q+QbvLp/Iw/GdtGDtiG/LDApWvcuzS/4gswwihp3PjGv+xQPOmdz2cXaz0cOumR8PrIOYOD6ENS+9wvfbqzDJY967Yxh3y0SGvLSO33xHcsZonR/vf4sVGU7IeIf5y8/i0aSGrytBbbfjP5ILJ/vw7b0v8O2WhivCCud9wNgPLmBM3McszN6/PJ62Ty06xvOrhkcSTglFJQagkjzlZV69ri8WPZMFN17PGxlt52+V2bH8etSO/LboGM9fA9l+du38yPEFeI7/4cwPtFDQmlU7qa7enzDTNNBCYrCpCmr8FQy+9oomn9axBQajmEVU5RQTfXxv4s59hMjyTKqyV1K4ZeMB94k6cZbspFotQ49roTfGHubfMIH5h7AgoQN1NFOlMl3B6VapM3TCBhpov2jNRzsLNEqa7OTMA1aIFtsVk+DTHAw6Wyeg6YidDjZ/wFQoXKnhHqQTOdwgu1onRIPK1Rp1HrbFTanWhsLacB1YmihU/M+Xpet1Ek5zEf8XnYRLdSJ7+/DrfyzUt6Mq8rT8bTIU6soa/utygOLTMMSvRJr4q+DYoVHtArNUoyQPwhPaMe32ahIiJdYgsHH+lU4AlZLtKn2SDQJjTfCyoDUrNEqyAF2l9A8Vs5+BX3iz0x0tssQZ+GugDnEw4V1Hsza/iOaFq+luOIGgdeItqu7qfDJq1RYLWsPwZgVU6DlyNCnpy9lcYwK/s2HXnUwcGc2CPU0faGBStXMHBa1OsrV2hYB+5/C3WZdwcv8YQnwtqAoYeQX4KQ3fK1z2A1uuO5dTkxaSmT+UcaN1fnl0I00feaFYLFhwo7f0NCgv2vWcX1mpTuNa822uy9E50ev+ARgU5hbuO7ttFOZRqI0mLlKFUsCo4Kdn7+K9nf70Pusa/upawFPf5LV9qWOnc1FXXkQRNfseKHLgpsF0u9GxYj0Mt0i3HX83f8y/nad/rEINiGbo+bOY9n/T2HnTK2yu9yb+rVMj44hWc1iTvXfGDrIyctE764BsH8/xbZlO2ncL9x/QbNtKaehbPHvW6aR8+nbjAU3j9LpkfjxMNySWGL9itmbV7otHfVYmRb7DiA1TUIPiidFyWJu1d8ZOcjLz0BsLHjWy7XYtJpXkwDhOf/F7mj1SyMgnP1SFfQWPp+2TJ8dyfvcyyP3fw8z84yzufOJUFDznT9E7ll9PvM+vJ8dy/mT72bXzI8cX4Dn+hzM/0NIIre4+eCVTQMFEL1lHSX5lk3YDV0k9Jk5q1j3P9tKTCE/qT3B0L8KH9CE42OCPnzfhdtQ2FJU+Nhzb3yeTKKJTFKAOd2eMmWsGPfubKKpJ6gO1pDb+2eyvE6JplDUt2ty0vRK00K72cTH4Ah0/h0rOR1aKiyBssoPkRPbVOs4NFkrqdaJGuEmp0VF1jYK17XvSsLuuofCx+LVcRLnzNDLma2R+oTPoITsJQ13ERlvYnd+emXhY/jYpLW6BlMaummaT5sN5KYRi4hduopgKjkql/c/q9uZy9pb6v/dvB59vAMC120L2tuajrvaM5v+v+pmogKvFm0APhULE+XNYeMuwFh4j72KrN0/ZU0I5cfQA/AYNYv53f2v4k2ZBN08g/JMvKWmSVKfT2ca0Wmm3DWXGQzPpvewxbnlgNdlVLqyn3s9/Z+0PpFn6C0s2z+SSsSl8tmMcIx3Leej35s9iNKorqSaAwACg8uC5e2pHz2Lx3DmUsYZsXdu/w/GifwCq1nDSwARQVTSargo6VfmZZOx0kZExl/i5DzFr1EyeXlV9+B/yVV1JFUGEBFaz8oWbWAlYh40imCoqq5rPXQkMJIBqqqo7f1fYdvyb3wOWscePwR/fwXknvM3m3wZ4Ff/WmYBB03M3uq4f9ImmFDydpmqiHfH1jpus9ByMCeGEaTTbIHfJ/Cw/DI879xT8A9td63n2stv5os0HrXjaPrXiGM+vUVpMKcn07NEwmuKqzCMzuwT7Yd1Ht/PzXuW3Fcd4/hrI9nO/rpgf5PgCz/E/nPkBL59ybFQW4jRB0XMo3rCI3HWLyF33Pwp2/k51eS2goVld1GX8QPbSF9n66ZuU1oMlsg9+KlCXS129gRLci0B/BfxSCQpVwZ5PfbN7dCwEhEcRFR7QrhpF6anTIwrMcpWidRqF6zQqykHpodMjuj3haJkWaeCrgrHFypZFFvLWqDgPjFytRt5mBRJcJPUHY5dGQXH75uPIV3CZ4B/V/D2nSohO4lgdn8agmHUK9Y2KmEc+AAAMs0lEQVQFkaXJPcBm4zqiHrmXMQFglCrYDfDtbRCogRJm0COmhQ9qBvFXOBl4hZuQDpyhsaS6SOwHuFTKM8HMU6kxwKefTogNsBj07G+gGCo1eQ2RNN2g2MBiASXMbFgvD6CE6vSIBVSTsP4GiqlQX9pkk2JvKE59Qpr/iN15KvUGqG6VrE9sbP+w4d+uny2UZjXfaDXkVqE2v7Neq9R4yfHep/81+zeLxxd7vuRYCRrB6IFl/O+hGVx33XVcd911zHhwEaX9RzMiuOP3Oig9+9IndCeLP15BVpULE5XYpPjmT6g2K1ixZD0R487m4gkjqVv+E38ccCbUKMgg0x5DQlzLK7indjAp2fgN32wsaX6SwZv+oRGXksjen5slPpk4o4DcohY2zO5dLPoihzHTzie52WX3Cr4hPenZI/AQ32HX8vbRrNvFzjx/+vWPb9ygq0T160dQwS52H/BODktcErHOTNLzWtqhdKx/nuPfhO7CbdgICLCieRX/NuZblEu+HkFMxN4ftYWo2Kj9OzfTicMJNputcbuqEhYe1sIBWcvL7318vd1/WYhPjkMpK2l+spWumZ99cdLduE0bvrbmkTMr88mvjyA5MWDfZ/0Sk4l05JNXbmIU5pCnx5OSuLfXNuISY/bdo+epXc9PJ9OZwvEDAtpdJzX358yvnrGejVUJjBoV1+IBn6f8dTS/+zvS8vrjfX7/nPlrkWw/u2B+5Pii7fh7bu8orwpas+Q3ioocqFHn0v+cWaSeOo3ek/6P48+7nLAABZRgwsffx8CJU0gYMYm4kacT7APUleI0ASOT0t2FmFpv4iffxcDJFxBsMbCnr6Gm6QqpxnHB4wtY8OTFXj0MYC9rf51gFWqW+bD2OV/WPufL5p9UTNWg5wCzgztBcOeq1Omg9naTNEwn5nwnSYkHfkqheKWGi4YRy/I17bsUGMBI1yirA79eOj5NO+1rkDDNzmkv1HHKfXb+8ridPolglmuUNnmKrqtEwW1C4HgHQ69xMvByN0He3Mfqa5B0hZOBU13EJwCKSfiZTgZOddLnRMNj/Mw9DfcKK8lOTrzPzqh7nPT0aeGDikHkRBcpE90EHsIvTol3MXJOHRMecBFqg9plVvIrGu4h3rNFgXgXJz5oZ9SDdvokg2u7hezGS4ir8wCrTq9pTo6/zkVIS+uXYZB6Zz2j769nwAAwqzQKm7y+yJGl4jAg4HQHw6c5GXili/AgMDMs7ElT0Po6+csjdob/3cHIf9Yz/jEHMT2aLoBJaG8DxaFSsqv9y98ad1Ueu3ftYtdB/3aTU9Hm9WcA+A0ZzRB9Myt+yyQrK4usrCwyf1vBJucgRg/v+GuwzYoc8urjGTw0Agvgm3g20/6aesDGx6Rq5Q+s6XEeU06pYfnSHQc/vMK5hTWbLQwclNTyAys8tbfC8Kp/EPCXq7julFRiEk9kyrQJ+Kz9idUt3v9vUvrzV6yNOo/LRwc2eVpkKBPve5+P5k5n4AH7RMUvguRevekVH4ZN9SUiqQ+9e8UT2vR30tr2UU/n+2/TiD1vJpcMSyZpyIX87aJkdi/+/oAnUKokDD4e/61r2dL8yniP/fNKm/FX8OkRR2JiIsl9h3Hm9VM4yZrGhq216F7GvzVm9RqWrAlk3IWnEGEBa+zpXDQ2osl2y076zjxiR51Mii+oYSM4/4zeB/exteX3Nr6t5EcJ/gvTbr+aSScP57gBgxlz6V3cdX4Ptn69hMxm+/WumZ99a7gzg105UZx05igSe/YgLMinIcauzSxZWsWJU2cyoV8sMX1P54arR1P38xI2O8GsWc33qzROm34toxMjSThxClecHLRvzp7aqVvN519VcspN93D5qF7ExCQx4KTz+Pu9VzGkXWe+/6T5ta/jw/m/kzD1n9w6eTh9klIZcspw4hqfn+Epfx3N7/7+tbL+eJvfP2v+GiYu288unZ/WyfGFt+0d511azUKKfpoHIyYTkZBKaAjo9aXUZ6yhus4E00593m7cqX3oERWEpjhwFv9G1m8rGp/C5aZu01tk2i4lNjUJX6WamrRvydqY0QnXgJv0GGigoVC+ff+oV802Dfv5BiEDdSw/WNp41LcXc8i0sukDk0F/ddN/tkHtVgvFu3XiU5p/zr3VQlGNm3gfjfx1rT/wR7GC1R9c9Q2X6e5Tp5G7XiF6lE5kqLXhdTQ03NuZ/qWFpBN1glJ0LLpCzRYrGR9aKWlyVabxh5Vty0z6nqATc7qB4rBQ9omFak8LaDOIOsNFxL61wSRklIsQoF7V2LXeQ0nrVtk114b/DS6ikgzcGyzk1LlISDjgEmU/sChgVqk4PNdZB7OY+AYrOHI08n6xkrZYw2UCKGTP9UWb6iB1uE4PVaFypY1t862N9zAr5HxqI/JvLsKHuXF8Z6G0j4vwAyZvlllIW2aSNNnALNHY/ZaNoiaXBhs7rGz5xuC48TpR4xtGgO1LrJRWq2Q+74N5mYvk4TrRMeCqVKlaZaG0vMkMgnQi+4Bzo4WimoMXT/M3sVjbf7VWx/gwaPRwbNtfZ1vTjYzzDzZtszBr1BB8f1pBhy46rFvJ6/8ezD9ufJVPrq+jIn89n/1vJSecfcDnatfw48paxg74hWVpLfxizWpWffcbs64dQ/I7uw5+2IWn9g71T2fH4mX4Tfk3b/WyUbrhcx597gfKzZbzZVb/xlc//51Hr5jM/JUfNt4G5oe/P+hlxRz4XAlL/yn8+5nz6dm4I7nsiVe5zP0Hc6+5iQ9zPW0lDbI//ReP97iTWQ+/ynVKCVu+fZx/fZTZ/KmmahInn9yD1QtXUNHixqn1/nmlzfhbOP7aF3jnGhPDVUPR7vV8+uDLfJptAB7ir/Vm+uvzuDpl72HEAD7/6XZw/c6LV9/MJ/nl/PSfR0i8+1bmfXwj9uJtLF+zs8k9YDrp/53LZ0Pv4j8fnUNJxmq++HUT7jHeLr+X8W0tLK5azOjxTLtnKj38FeoKd7DyzXt4+fOc5vu/LpufvWHYw+cvzOf4e+7lrQv8MdbOaXz9h50Nr93PS7NvYcacd+hBObt+mcf989Y2vN7CrGTZCw+TdPft3Pv6hTh3f8+H321nwACjIX6e2rGz5Y27edDxd6bf/jzTQ6GqMJ1NP39ISwMYrfuz5tcg54sHucN9PbMuu58XbvXHVZzGr6/N4bOdOqC3nT86mN993Wh9/fEuv3/W/IFsP7t6ftogxxfetXcCZezYsUfgwc9/Dkqki9FPOAlJ82Hpk5aD7lFRBzoZ/w8Xvgrg1th0ky85tQdMI9HFmIec6B/7sfLrzros9fDT/E2MxnuAsekc/5SdpCCNjbN9yW0sCve+L7fuYz9WLOo+y9ZZ/CbaGTvFJONhP3akH9Do7+aEFx1EWQFTIfvf/mzefDR6eRQpPTnnqXe4YNstXP/mrpZ3dpbeXPvyg4TNm8Gz61oosz21H1K/orjoubcZu3wat3xScOjrbeDpPPzhzZhzruHBJRVHfP33GTKb12+289is19jW0gmlzujf4Yj/kSL5OUI0+kx/nWeT3uXSB35q4Z2bntoPkeT3CJH8de/8HSLJz6H5kxxfeMxPJzjCd1sem5QwnZSzdMIGuQmzKBQs1Vp84IKRaWH9YxqqApgKNS38HsxsC1s/M0iNMPBT1IPeI9tVhV1Wz5DeKpV5CkqsTkQPcP9uoazJEzKD+hlYayykL/3zFbMoJqGRUPSFjfSMFtrtGjue8iWj8akA9uwj3cGjScEWEEb0iKu5+PhMvn4+vfUzt+7dfDxnPpN7RmAh++ArLzy1H0XWvoPpV/QVDy478jsb0AgPKOD9Od+yvZWdSaf0rwvH3xPJz+Hj13884wIzWLW1AD16LJdOCGXd6xup97K9M0h+Dx/JX/fOX2eQ/BxdXTv+nvPTGWSEthMoiU5OedhFoK5QuczG+vcs1B/Z52kfdUETHAyZpBMQZqI6Far/sJD2no2isqPdM9HlqQlc8dKbXJdYwMo3H+bRT3d27BLnztZZZ1CF+JPyHz6Dx2+bTJ/oINTqPaz+/CWenb+ectO7dtG1Sf6EOERyfNFppKAVQgghhBBCCNEtteNZwkIIIYQQQgghRNchBa0QQgghhBBCiG5JClohhBBCCCGEEN2SFLRCCCGEEEIIIbolKWiFEEIIIYQQQnRLUtAKIYQQQgghhOiWpKAVQgghhBBCCNEtSUErhBBCCCGEEKJbkoJWCCGEEEIIIUS3JAWtEEIIIYQQQohuSQpaIYQQQgghhBDdkhS0QgghhBBCCCG6JSlohRBCCCGEEEJ0S1LQCiGEEEIIIYTolqSgFUIIIYQQQgjRLUlBK4QQQgghhBCiW/r/WiReQW83cQIAAAAASUVORK5CYII=)"
      ]
    },
    {
      "cell_type": "code",
      "execution_count": null,
      "metadata": {
        "colab": {
          "base_uri": "https://localhost:8080/",
          "height": 35
        },
        "id": "re8Sx4ycIt0K",
        "outputId": "ece19b49-4dd9-49e4-c7f8-855baf523692"
      },
      "outputs": [
        {
          "data": {
            "application/vnd.google.colaboratory.intrinsic+json": {
              "type": "string"
            },
            "text/plain": [
              "' After 1st iteration, current pagerank value for each page is: '"
            ]
          },
          "execution_count": 150,
          "metadata": {},
          "output_type": "execute_result"
        }
      ],
      "source": [
        "''' After 1st iteration, current pagerank value for each page is: '''"
      ]
    },
    {
      "cell_type": "markdown",
      "metadata": {
        "id": "lO25zdnRIyXt"
      },
      "source": [
        "![a5.png](data:image/png;base64,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)"
      ]
    },
    {
      "cell_type": "code",
      "execution_count": null,
      "metadata": {
        "id": "AdxBcpSq0mxL"
      },
      "outputs": [],
      "source": []
    },
    {
      "cell_type": "markdown",
      "metadata": {
        "id": "6jiz8iFNlf97"
      },
      "source": [
        "# Question 3"
      ]
    },
    {
      "attachments": {},
      "cell_type": "markdown",
      "metadata": {
        "id": "HrjbHZDMtUuH"
      },
      "source": [
        "a) This exercise focuses on data preprocessing and feature engineering.\n",
        "\n",
        "(i) “StandardScaler”, (ii) “MinMaxScaler”, (iii) “MaxAbsScaler”, (iv) “Elementwise-\n",
        "Product”, and (v) “Normalizer”, and try out each of the operation on data set of your choice."
      ]
    },
    {
      "cell_type": "code",
      "execution_count": null,
      "metadata": {
        "id": "U_jWWbAOVL3R"
      },
      "outputs": [],
      "source": []
    },
    {
      "cell_type": "code",
      "execution_count": null,
      "metadata": {
        "colab": {
          "base_uri": "https://localhost:8080/"
        },
        "id": "ML5gomHLVMSu",
        "outputId": "d5282911-fc68-4cc9-b11c-a0fde8e28139"
      },
      "outputs": [
        {
          "name": "stdout",
          "output_type": "stream",
          "text": [
            "Mounted at /content/drive\n"
          ]
        }
      ],
      "source": [
        "from google.colab import drive\n",
        "drive.mount('/content/drive')"
      ]
    },
    {
      "cell_type": "code",
      "execution_count": null,
      "metadata": {
        "id": "XQWm5ADLtUJN"
      },
      "outputs": [],
      "source": [
        "scaleDF = spark.read.parquet(\"/content/drive/MyDrive/data/simple-ml-scaling\")"
      ]
    },
    {
      "cell_type": "code",
      "execution_count": null,
      "metadata": {
        "colab": {
          "base_uri": "https://localhost:8080/"
        },
        "id": "4VeD027Gt1MD",
        "outputId": "db274a21-3502-4239-c457-24354b2ce06a"
      },
      "outputs": [
        {
          "name": "stdout",
          "output_type": "stream",
          "text": [
            "+---+--------------+\n",
            "| id|      features|\n",
            "+---+--------------+\n",
            "|  0|[1.0,0.1,-1.0]|\n",
            "|  1| [2.0,1.1,1.0]|\n",
            "|  0|[1.0,0.1,-1.0]|\n",
            "|  1| [2.0,1.1,1.0]|\n",
            "|  1|[3.0,10.1,3.0]|\n",
            "+---+--------------+\n",
            "\n"
          ]
        }
      ],
      "source": [
        "scaleDF.cache()\n",
        "scaleDF.show()"
      ]
    },
    {
      "cell_type": "code",
      "execution_count": null,
      "metadata": {
        "colab": {
          "base_uri": "https://localhost:8080/"
        },
        "id": "mPy33YsUuGoC",
        "outputId": "4f60dbc0-3526-4b05-9728-da91ae5e9362"
      },
      "outputs": [
        {
          "name": "stdout",
          "output_type": "stream",
          "text": [
            "+---+--------------+-----------------------------------+\n",
            "| id|      features|StandardScaler_87941a4ea11b__output|\n",
            "+---+--------------+-----------------------------------+\n",
            "|  0|[1.0,0.1,-1.0]|               [1.19522860933439...|\n",
            "|  1| [2.0,1.1,1.0]|               [2.39045721866878...|\n",
            "|  0|[1.0,0.1,-1.0]|               [1.19522860933439...|\n",
            "|  1| [2.0,1.1,1.0]|               [2.39045721866878...|\n",
            "|  1|[3.0,10.1,3.0]|               [3.58568582800318...|\n",
            "+---+--------------+-----------------------------------+\n",
            "\n"
          ]
        }
      ],
      "source": [
        "# StandardScaler\n",
        "\n",
        "''' The StandardScaler standardizes a set of features to have zero mean and a standard deviation\n",
        "of 1. The flag withStd will scale the data to unit standard deviation while the flag withMean\n",
        "(false by default) will center the data prior to scaling it. '''\n",
        "\n",
        "from pyspark.ml.feature import StandardScaler\n",
        "sScaler = StandardScaler().setInputCol(\"features\")\n",
        "sScaler.fit(scaleDF).transform(scaleDF).show()"
      ]
    },
    {
      "cell_type": "code",
      "execution_count": null,
      "metadata": {
        "colab": {
          "base_uri": "https://localhost:8080/"
        },
        "id": "K-HEOi94upJI",
        "outputId": "e73e4697-d873-4a6f-a562-88b807addfcd"
      },
      "outputs": [
        {
          "name": "stdout",
          "output_type": "stream",
          "text": [
            "+---+--------------+---------------------------------+\n",
            "| id|      features|MinMaxScaler_a1b4b9c46a9d__output|\n",
            "+---+--------------+---------------------------------+\n",
            "|  0|[1.0,0.1,-1.0]|                    [5.0,5.0,5.0]|\n",
            "|  1| [2.0,1.1,1.0]|                    [7.5,5.5,7.5]|\n",
            "|  0|[1.0,0.1,-1.0]|                    [5.0,5.0,5.0]|\n",
            "|  1| [2.0,1.1,1.0]|                    [7.5,5.5,7.5]|\n",
            "|  1|[3.0,10.1,3.0]|                 [10.0,10.0,10.0]|\n",
            "+---+--------------+---------------------------------+\n",
            "\n"
          ]
        }
      ],
      "source": [
        "# MinMaxScaler\n",
        "\n",
        "''' The MinMaxScaler will scale the values in a vector (component wise) to the proportional values\n",
        "on a scale from a given min value to a max value. If you specify the minimum value to be 0 and\n",
        "the maximum value to be 1, then all the values will fall in between 0 and 1: '''\n",
        "\n",
        "from pyspark.ml.feature import MinMaxScaler\n",
        "minMax = MinMaxScaler().setMin(5).setMax(10).setInputCol(\"features\")\n",
        "fittedminMax = minMax.fit(scaleDF)\n",
        "fittedminMax.transform(scaleDF).show()"
      ]
    },
    {
      "cell_type": "code",
      "execution_count": null,
      "metadata": {
        "colab": {
          "base_uri": "https://localhost:8080/"
        },
        "id": "7IjhnudcuxfB",
        "outputId": "be91c0eb-aef0-4671-fb8f-0e4b0dc6f462"
      },
      "outputs": [
        {
          "name": "stdout",
          "output_type": "stream",
          "text": [
            "+---+--------------+---------------------------------+\n",
            "| id|      features|MaxAbsScaler_f8e600d76485__output|\n",
            "+---+--------------+---------------------------------+\n",
            "|  0|[1.0,0.1,-1.0]|             [0.33333333333333...|\n",
            "|  1| [2.0,1.1,1.0]|             [0.66666666666666...|\n",
            "|  0|[1.0,0.1,-1.0]|             [0.33333333333333...|\n",
            "|  1| [2.0,1.1,1.0]|             [0.66666666666666...|\n",
            "|  1|[3.0,10.1,3.0]|                    [1.0,1.0,1.0]|\n",
            "+---+--------------+---------------------------------+\n",
            "\n"
          ]
        }
      ],
      "source": [
        "# MaxAbsScaler\n",
        "\n",
        "''' The max absolute scaler (MaxAbsScaler) scales the data by dividing each value by the maximum\n",
        "absolute value in this feature. All values therefore end up between −1 and 1. This transformer\n",
        "does not shift or center the data at all in the process: '''\n",
        "\n",
        "from pyspark.ml.feature import MaxAbsScaler\n",
        "maScaler = MaxAbsScaler().setInputCol(\"features\")\n",
        "fittedmaScaler = maScaler.fit(scaleDF)\n",
        "fittedmaScaler.transform(scaleDF).show()"
      ]
    },
    {
      "cell_type": "code",
      "execution_count": null,
      "metadata": {
        "colab": {
          "base_uri": "https://localhost:8080/"
        },
        "id": "8pSAPVfLvA9c",
        "outputId": "aad93862-ca48-4fed-f264-55a440d5488e"
      },
      "outputs": [
        {
          "name": "stdout",
          "output_type": "stream",
          "text": [
            "+---+--------------+---------------------------------------+\n",
            "| id|      features|ElementwiseProduct_9b64934fdf9e__output|\n",
            "+---+--------------+---------------------------------------+\n",
            "|  0|[1.0,0.1,-1.0]|                       [10.0,1.5,-20.0]|\n",
            "|  1| [2.0,1.1,1.0]|                       [20.0,16.5,20.0]|\n",
            "|  0|[1.0,0.1,-1.0]|                       [10.0,1.5,-20.0]|\n",
            "|  1| [2.0,1.1,1.0]|                       [20.0,16.5,20.0]|\n",
            "|  1|[3.0,10.1,3.0]|                      [30.0,151.5,60.0]|\n",
            "+---+--------------+---------------------------------------+\n",
            "\n"
          ]
        }
      ],
      "source": [
        "# ElementwiseProduct\n",
        "\n",
        "''' The ElementwiseProduct allows us to scale each value in a vector by an arbitrary value. For\n",
        "example, given the vector below and the row “1, 0.1, -1” the output will be “10, 1.5, -20.”\n",
        "Naturally the dimensions of the scaling vector must match the dimensions of the vector inside\n",
        "the relevant column: '''\n",
        "\n",
        "from pyspark.ml.feature import ElementwiseProduct\n",
        "from pyspark.ml.linalg import Vectors\n",
        "scaleUpVec = Vectors.dense(10.0, 15.0, 20.0)\n",
        "scalingUp = ElementwiseProduct()\\\n",
        ".setScalingVec(scaleUpVec)\\\n",
        ".setInputCol(\"features\")\n",
        "scalingUp.transform(scaleDF).show()"
      ]
    },
    {
      "cell_type": "code",
      "execution_count": null,
      "metadata": {
        "colab": {
          "base_uri": "https://localhost:8080/"
        },
        "id": "w4Y00W_xvJaw",
        "outputId": "6b97bfa3-31e8-4a71-c273-be12e5548b55"
      },
      "outputs": [
        {
          "name": "stdout",
          "output_type": "stream",
          "text": [
            "+---+--------------+-------------------------------+\n",
            "| id|      features|Normalizer_6656d1656bab__output|\n",
            "+---+--------------+-------------------------------+\n",
            "|  0|[1.0,0.1,-1.0]|           [0.47619047619047...|\n",
            "|  1| [2.0,1.1,1.0]|           [0.48780487804878...|\n",
            "|  0|[1.0,0.1,-1.0]|           [0.47619047619047...|\n",
            "|  1| [2.0,1.1,1.0]|           [0.48780487804878...|\n",
            "|  1|[3.0,10.1,3.0]|           [0.18633540372670...|\n",
            "+---+--------------+-------------------------------+\n",
            "\n"
          ]
        }
      ],
      "source": [
        "# Normalizer\n",
        "\n",
        "''' he normalizer allows us to scale multidimensional vectors using one of several power norms,\n",
        "set through the parameter “p”. For example, we can use the Manhattan norm (or Manhattan\n",
        "distance) with p = 1, Euclidean norm with p = 2, and so on. The Manhattan distance is a measure\n",
        "of distance where you can only travel from point to point along the straight lines of an axis  '''\n",
        "\n",
        "\n",
        "from pyspark.ml.feature import Normalizer\n",
        "manhattanDistance = Normalizer().setP(1).setInputCol(\"features\")\n",
        "manhattanDistance.transform(scaleDF).show()"
      ]
    },
    {
      "cell_type": "code",
      "execution_count": null,
      "metadata": {
        "id": "EK2-xtFLvWz4"
      },
      "outputs": [],
      "source": []
    },
    {
      "cell_type": "markdown",
      "metadata": {
        "id": "cK1V4uF_vctq"
      },
      "source": [
        "b"
      ]
    },
    {
      "cell_type": "code",
      "execution_count": null,
      "metadata": {
        "id": "IjLOZSW5wMmB"
      },
      "outputs": [],
      "source": [
        "sales = spark.read.format(\"csv\")\\\n",
        ".option(\"header\", \"true\")\\\n",
        ".option(\"inferSchema\", \"true\")\\\n",
        ".load(\"/content/drive/MyDrive/data/retail-data/by-day/*.csv\")\\\n",
        ".coalesce(5)\\\n",
        ".where(\"Description IS NOT NULL\")"
      ]
    },
    {
      "cell_type": "code",
      "execution_count": null,
      "metadata": {
        "colab": {
          "base_uri": "https://localhost:8080/"
        },
        "id": "_IpTlXOhwMB4",
        "outputId": "f1986136-328d-48c0-8a4e-0558796d258d"
      },
      "outputs": [
        {
          "name": "stdout",
          "output_type": "stream",
          "text": [
            "+-----------------------------------+------------------------------------------+\n",
            "|Description                        |DescOut                                   |\n",
            "+-----------------------------------+------------------------------------------+\n",
            "|RABBIT NIGHT LIGHT                 |[rabbit, night, light]                    |\n",
            "|DOUGHNUT LIP GLOSS                 |[doughnut, lip, gloss]                    |\n",
            "|12 MESSAGE CARDS WITH ENVELOPES    |[12, message, cards, with, envelopes]     |\n",
            "|BLUE HARMONICA IN BOX              |[blue, harmonica, in, box]                |\n",
            "|GUMBALL COAT RACK                  |[gumball, coat, rack]                     |\n",
            "|SKULLS  WATER TRANSFER TATTOOS     |[skulls, , water, transfer, tattoos]      |\n",
            "|FELTCRAFT GIRL AMELIE KIT          |[feltcraft, girl, amelie, kit]            |\n",
            "|CAMOUFLAGE LED TORCH               |[camouflage, led, torch]                  |\n",
            "|WHITE SKULL HOT WATER BOTTLE       |[white, skull, hot, water, bottle]        |\n",
            "|ENGLISH ROSE HOT WATER BOTTLE      |[english, rose, hot, water, bottle]       |\n",
            "|HOT WATER BOTTLE KEEP CALM         |[hot, water, bottle, keep, calm]          |\n",
            "|SCOTTIE DOG HOT WATER BOTTLE       |[scottie, dog, hot, water, bottle]        |\n",
            "|ROSE CARAVAN DOORSTOP              |[rose, caravan, doorstop]                 |\n",
            "|GINGHAM HEART  DOORSTOP RED        |[gingham, heart, , doorstop, red]         |\n",
            "|STORAGE TIN VINTAGE LEAF           |[storage, tin, vintage, leaf]             |\n",
            "|SET OF 4 KNICK KNACK TINS POPPIES  |[set, of, 4, knick, knack, tins, poppies] |\n",
            "|POPCORN HOLDER                     |[popcorn, holder]                         |\n",
            "|GROW A FLYTRAP OR SUNFLOWER IN TIN |[grow, a, flytrap, or, sunflower, in, tin]|\n",
            "|AIRLINE BAG VINTAGE WORLD CHAMPION |[airline, bag, vintage, world, champion]  |\n",
            "|AIRLINE BAG VINTAGE JET SET BROWN  |[airline, bag, vintage, jet, set, brown]  |\n",
            "+-----------------------------------+------------------------------------------+\n",
            "only showing top 20 rows\n",
            "\n"
          ]
        }
      ],
      "source": [
        "from pyspark.ml.feature import Tokenizer\n",
        "tkn = Tokenizer().setInputCol(\"Description\").setOutputCol(\"DescOut\")\n",
        "tokenized = tkn.transform(sales.select(\"Description\"))\n",
        "tokenized.show(20, False)"
      ]
    },
    {
      "cell_type": "code",
      "execution_count": null,
      "metadata": {
        "colab": {
          "base_uri": "https://localhost:8080/"
        },
        "id": "FYg7jBIhvdjs",
        "outputId": "5d2f608f-aa28-4f33-f5e4-b7509eec1306"
      },
      "outputs": [
        {
          "name": "stdout",
          "output_type": "stream",
          "text": [
            "+--------------------+--------------------+-------------------------------------+\n",
            "|         Description|             DescOut|StopWordsRemover_faff8ab4bcf8__output|\n",
            "+--------------------+--------------------+-------------------------------------+\n",
            "|  RABBIT NIGHT LIGHT|[rabbit, night, l...|                 [rabbit, night, l...|\n",
            "| DOUGHNUT LIP GLOSS |[doughnut, lip, g...|                 [doughnut, lip, g...|\n",
            "|12 MESSAGE CARDS ...|[12, message, car...|                 [12, message, car...|\n",
            "|BLUE HARMONICA IN...|[blue, harmonica,...|                 [blue, harmonica,...|\n",
            "|   GUMBALL COAT RACK|[gumball, coat, r...|                 [gumball, coat, r...|\n",
            "|SKULLS  WATER TRA...|[skulls, , water,...|                 [skulls, , water,...|\n",
            "|FELTCRAFT GIRL AM...|[feltcraft, girl,...|                 [feltcraft, girl,...|\n",
            "|CAMOUFLAGE LED TORCH|[camouflage, led,...|                 [camouflage, led,...|\n",
            "|WHITE SKULL HOT W...|[white, skull, ho...|                 [white, skull, ho...|\n",
            "|ENGLISH ROSE HOT ...|[english, rose, h...|                 [english, rose, h...|\n",
            "|HOT WATER BOTTLE ...|[hot, water, bott...|                 [hot, water, bott...|\n",
            "|SCOTTIE DOG HOT W...|[scottie, dog, ho...|                 [scottie, dog, ho...|\n",
            "|ROSE CARAVAN DOOR...|[rose, caravan, d...|                 [rose, caravan, d...|\n",
            "|GINGHAM HEART  DO...|[gingham, heart, ...|                 [gingham, heart, ...|\n",
            "|STORAGE TIN VINTA...|[storage, tin, vi...|                 [storage, tin, vi...|\n",
            "|SET OF 4 KNICK KN...|[set, of, 4, knic...|                 [set, 4, knick, k...|\n",
            "|      POPCORN HOLDER|   [popcorn, holder]|                    [popcorn, holder]|\n",
            "|GROW A FLYTRAP OR...|[grow, a, flytrap...|                 [grow, flytrap, s...|\n",
            "|AIRLINE BAG VINTA...|[airline, bag, vi...|                 [airline, bag, vi...|\n",
            "|AIRLINE BAG VINTA...|[airline, bag, vi...|                 [airline, bag, vi...|\n",
            "+--------------------+--------------------+-------------------------------------+\n",
            "only showing top 20 rows\n",
            "\n"
          ]
        }
      ],
      "source": [
        "# Removing Common Words\n",
        "\n",
        "''' A common task after tokenization is to filter stop words, common words that are not relevant in\n",
        "many kinds of analysis and should thus be removed. Frequently occurring stop words in English\n",
        "include “the,” “and,” and “but.” '''\n",
        "\n",
        "from pyspark.ml.feature import StopWordsRemover\n",
        "englishStopWords = StopWordsRemover.loadDefaultStopWords(\"english\")\n",
        "stops = StopWordsRemover()\\\n",
        ".setStopWords(englishStopWords)\\\n",
        ".setInputCol(\"DescOut\")\n",
        "stops.transform(tokenized).show()"
      ]
    },
    {
      "cell_type": "code",
      "execution_count": null,
      "metadata": {
        "colab": {
          "base_uri": "https://localhost:8080/"
        },
        "id": "wvEjV7zfz8QH",
        "outputId": "d4991924-9073-4bba-c3b0-46e74143f180"
      },
      "outputs": [
        {
          "name": "stdout",
          "output_type": "stream",
          "text": [
            "+--------------------+--------------------------+\n",
            "|             DescOut|NGram_0db7e7adf0ac__output|\n",
            "+--------------------+--------------------------+\n",
            "|[rabbit, night, l...|      [rabbit, night, l...|\n",
            "|[doughnut, lip, g...|      [doughnut, lip, g...|\n",
            "|[12, message, car...|      [12, message, car...|\n",
            "|[blue, harmonica,...|      [blue, harmonica,...|\n",
            "|[gumball, coat, r...|      [gumball, coat, r...|\n",
            "|[skulls, , water,...|      [skulls, , water,...|\n",
            "|[feltcraft, girl,...|      [feltcraft, girl,...|\n",
            "|[camouflage, led,...|      [camouflage, led,...|\n",
            "|[white, skull, ho...|      [white, skull, ho...|\n",
            "|[english, rose, h...|      [english, rose, h...|\n",
            "|[hot, water, bott...|      [hot, water, bott...|\n",
            "|[scottie, dog, ho...|      [scottie, dog, ho...|\n",
            "|[rose, caravan, d...|      [rose, caravan, d...|\n",
            "|[gingham, heart, ...|      [gingham, heart, ...|\n",
            "|[storage, tin, vi...|      [storage, tin, vi...|\n",
            "|[set, of, 4, knic...|      [set, of, 4, knic...|\n",
            "|   [popcorn, holder]|         [popcorn, holder]|\n",
            "|[grow, a, flytrap...|      [grow, a, flytrap...|\n",
            "|[airline, bag, vi...|      [airline, bag, vi...|\n",
            "|[airline, bag, vi...|      [airline, bag, vi...|\n",
            "+--------------------+--------------------------+\n",
            "only showing top 20 rows\n",
            "\n",
            "+--------------------+--------------------------+\n",
            "|             DescOut|NGram_0484d60bd062__output|\n",
            "+--------------------+--------------------------+\n",
            "|[rabbit, night, l...|      [rabbit night, ni...|\n",
            "|[doughnut, lip, g...|      [doughnut lip, li...|\n",
            "|[12, message, car...|      [12 message, mess...|\n",
            "|[blue, harmonica,...|      [blue harmonica, ...|\n",
            "|[gumball, coat, r...|      [gumball coat, co...|\n",
            "|[skulls, , water,...|      [skulls ,  water,...|\n",
            "|[feltcraft, girl,...|      [feltcraft girl, ...|\n",
            "|[camouflage, led,...|      [camouflage led, ...|\n",
            "|[white, skull, ho...|      [white skull, sku...|\n",
            "|[english, rose, h...|      [english rose, ro...|\n",
            "|[hot, water, bott...|      [hot water, water...|\n",
            "|[scottie, dog, ho...|      [scottie dog, dog...|\n",
            "|[rose, caravan, d...|      [rose caravan, ca...|\n",
            "|[gingham, heart, ...|      [gingham heart, h...|\n",
            "|[storage, tin, vi...|      [storage tin, tin...|\n",
            "|[set, of, 4, knic...|      [set of, of 4, 4 ...|\n",
            "|   [popcorn, holder]|          [popcorn holder]|\n",
            "|[grow, a, flytrap...|      [grow a, a flytra...|\n",
            "|[airline, bag, vi...|      [airline bag, bag...|\n",
            "|[airline, bag, vi...|      [airline bag, bag...|\n",
            "+--------------------+--------------------------+\n",
            "only showing top 20 rows\n",
            "\n"
          ]
        }
      ],
      "source": [
        "#Creating Word Combinations\n",
        "\n",
        "''' Word combinations are technically referred to as n-grams—that is, sequences of words of\n",
        "length n. An n-gram of length 1 is called a unigrams; those of length 2 are called bigrams, and\n",
        "those of length 3 are called trigrams (anything above those are just four-gram, five-gram, etc.),\n",
        "Order matters with n-gram creation, so converting a sentence with three words into bigram\n",
        "representation would result in two bigrams. The goal when creating n-grams is to better capture\n",
        "sentence structure and more information than can be gleaned by simply looking at all words\n",
        "individually. '''\n",
        "\n",
        "''' With n-grams, we can look at sequences of words that commonly co-occur and use them as\n",
        "inputs to a machine learning algorithm. These can create better features than simply looking at\n",
        "all of the words individually '''\n",
        "\n",
        "from pyspark.ml.feature import NGram\n",
        "unigram = NGram().setInputCol(\"DescOut\").setN(1)\n",
        "bigram = NGram().setInputCol(\"DescOut\").setN(2)\n",
        "unigram.transform(tokenized.select(\"DescOut\")).show()\n",
        "bigram.transform(tokenized.select(\"DescOut\")).show()"
      ]
    },
    {
      "cell_type": "code",
      "execution_count": null,
      "metadata": {
        "id": "KMNAy8XPMUTm"
      },
      "outputs": [],
      "source": []
    },
    {
      "cell_type": "markdown",
      "metadata": {
        "id": "A82nfIjGVryS"
      },
      "source": [
        "#THANKYOU"
      ]
    }
  ],
  "metadata": {
    "colab": {
      "provenance": []
    },
    "kernelspec": {
      "display_name": "Python 3",
      "name": "python3"
    },
    "language_info": {
      "name": "python"
    }
  },
  "nbformat": 4,
  "nbformat_minor": 0
}
